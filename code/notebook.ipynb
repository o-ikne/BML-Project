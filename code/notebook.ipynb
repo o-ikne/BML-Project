{
 "cells": [
  {
   "cell_type": "markdown",
   "id": "03dda887-271f-47d2-b51a-40566bcbe54e",
   "metadata": {},
   "source": [
    "---\n",
    "### **<p style=\"text-align: center; text-decoration: underline;\">Bayesian Machine Learning Project</p>**\n",
    "# **<p style=\"text-align: center;\">Bayesian Learning via Stochastic Gradient Langevin Dynamics</p>**\n",
    "---\n",
    "\n",
    "> Realized by: *Zakaria Boulkhir* & *Omar Iken*.\n",
    "\n",
    "> Master 2, Data Science, Lille University.\n",
    "\n",
    "---\n",
    "\n",
    "### ■ __Overview__\n",
    "This [project](https://github.com/rbardenet/bml-course/blob/m2-lille/projects/papers.pdf) is part of the lecture on *Bayesian Machine Learning* tought by [Rémi BARDENET](https://rbardenet.github.io/). The idea is to pick a paper from a list of given papers, and read it with a critical mind. For instance, we will:\n",
    "- (1) explain the contents of the paper\n",
    "- (2) emphasize the strong and weak points of the paper\n",
    "- (3) apply it to real data of our choice when applicable.\n",
    "\n",
    "So this notebook concerns the implementation part of the project.\n",
    "\n",
    "### ■ __Article__\n",
    "M. Welling and Y. W. Teh. Bayesian learning via stochastic gradient Langevin\n",
    "dynamics. In Proceedings of the 28th international conference on machine learning\n",
    "(ICML-11), pages 681–688, 2011.\n",
    "\n",
    "The main article is available [here](http://people.ee.duke.edu/~lcarin/398_icmlpaper.pdf).\n",
    "\n",
    "### ■ __Motivation__\n",
    "- Emergence of large-scale data sets.\n",
    "- Promising results from SGD.\n",
    "- Bayesian MCMC methods require the entire dataset, which is expensive in terms of time and memory.\n",
    "\n",
    "### ■ __SGLD__\n",
    "- Change the gradient of the Langevin dynamics to mini-batch estimation.\n",
    "- Inject noise into the parameter updates such that the parameter trajectory converges to the full posterior distribution.\n",
    "- Noise variance is balanced with gradient step sizes.\n",
    "- The step size must go to zero.\n",
    "\n",
    "The proposed method utilizes updates similar to stochastic gradient descent, but injects the right amount of noise, so that the resulting sample set approaches the posterior distribution rather than a point estimate. The resulting algorithm starts oﬀ being similar to stochastic optimization, then automatically transitions to an algorithm that simulates samples of the posterior using Langevin dynamics.\n",
    "\n",
    "### ■ **<a name=\"content\">Contents</a>**\n",
    "\n",
    "- [1. Dataset](#dataset)\n",
    "\n",
    "- [2. Implementation](#imp)\n",
    "\n",
    "    - [2.1. Preliminaries]()\n",
    "    \n",
    "    - [2.2. Stochastic Gradient Langevin Dynamics (SGLD)]()\n",
    "    \n",
    "    - [2.3. Posterior Sampling]()\n",
    "    \n",
    "    \n",
    "- [3. Experiments](#eval)\n",
    "\n",
    "    - [3.1. Mixture of Gaussians]()\n",
    "    \n",
    "    - [3.2. Logistic Regression]()\n",
    "    \n",
    "    - [3.3. Independent Components Analysis]()\n",
    "\n",
    "### ■ **Libraries**\n",
    "Let's start by uploading all the libraries needed for this project."
   ]
  },
  {
   "cell_type": "code",
   "execution_count": 1,
   "id": "2025ee14-0e92-445a-a813-f2195257478f",
   "metadata": {},
   "outputs": [],
   "source": [
    "## numpy to handle arrays & matices\n",
    "import numpy as np\n",
    "\n",
    "## matplotlib & Seaborn to plot figures\n",
    "import matplotlib.pyplot as plt\n",
    "import seaborn as sns\n",
    "\n",
    "## pandas to handle dataframes\n",
    "import pandas as pd\n",
    "from scipy import stats\n",
    "from tqdm import tqdm\n",
    "\n",
    "## sklearn dependencies\n",
    "from sklearn.datasets import fetch_openml\n",
    "from sklearn.model_selection import train_test_split\n",
    "from sklearn.metrics import mean_absolute_error, confusion_matrix, classification_report"
   ]
  },
  {
   "cell_type": "code",
   "execution_count": 2,
   "id": "3bf70bd7-156d-41db-bb5f-a3635960a6e3",
   "metadata": {},
   "outputs": [
    {
     "name": "stdout",
     "output_type": "stream",
     "text": [
      "numpy version: 1.20.1\n"
     ]
    }
   ],
   "source": [
    "#-----------< Setting >------------#\n",
    "## set plots text font size & style\n",
    "sns.set(font_scale=1.2, style='whitegrid')\n",
    "plt.rcParams['figure.figsize'] = (12, 8)\n",
    "\n",
    "## dependecies versions\n",
    "print(f'numpy version: {np.__version__}')"
   ]
  },
  {
   "cell_type": "markdown",
   "id": "8c7c8ce4-7989-4872-af09-4a463cf94cac",
   "metadata": {},
   "source": [
    "### ■ **<a name=\"dataset\">1. Dataset</a>** [(&#8593;)](#content)\n",
    "In this first section, we will load the dataset that we will use during this project. Then we will do some preprocessing and exploration.\n",
    "\n",
    "#### **1.1. Artificial Data**\n",
    "During this project, we will be working with both artificial and real data. The artificial data is generated as data-cases iid in six channels. Three channels had high kurtosis distributions while three others where normally distributed. The total number of generated samples is 1000."
   ]
  },
  {
   "cell_type": "code",
   "execution_count": 3,
   "id": "b81b92e4-51a8-44ba-80b0-e26f69b842b9",
   "metadata": {},
   "outputs": [],
   "source": [
    "def generate_art_data(n_samples):\n",
    "    \"\"\"generate artificial data\"\"\"\n",
    "    \n",
    "    normal_samples = np.random.normal(size=(n_samples, n_samples, 3))\n",
    "    \n",
    "    kurtosis_samples = stats.kurtosis(np.random.normal(size=(n_samples, n_samples, n_samples, 3)), fisher=True)\n",
    "\n",
    "    data = np.concatenate((normal_samples, kurtosis_samples), axis=-1)\n",
    "    \n",
    "    return data"
   ]
  },
  {
   "cell_type": "code",
   "execution_count": 4,
   "id": "80782207-69c8-48d4-8746-75b6fa98008c",
   "metadata": {},
   "outputs": [
    {
     "data": {
      "text/plain": [
       "(100, 100, 6)"
      ]
     },
     "execution_count": 4,
     "metadata": {},
     "output_type": "execute_result"
    }
   ],
   "source": [
    "data = generate_art_data(100)\n",
    "\n",
    "data.shape"
   ]
  },
  {
   "cell_type": "markdown",
   "id": "a1ee5297-425d-416c-b888-06fc50b49c56",
   "metadata": {},
   "source": [
    "#### **1.2. MEG Data**"
   ]
  },
  {
   "cell_type": "code",
   "execution_count": null,
   "id": "51cb4908-791e-4d75-82bf-921813a56a54",
   "metadata": {},
   "outputs": [],
   "source": []
  },
  {
   "cell_type": "markdown",
   "id": "2cf0f46a-3543-4707-bc5c-43941ad09e46",
   "metadata": {},
   "source": [
    "### ■ **<a name=\"imp\">2. Implementation</a>** [(&#8593;)](#content)\n",
    "This second section concers implementing SGDL. The main goal is to do bayesian learning from large scale datasets. The main idea is to combine\n",
    "two type of algorithms:\n",
    "- *Stochastic Gradient Descent* algorithm (aka. Robbins-Monro) [\\ref{SGD}]: which stochastically optimize a likelihood.\n",
    "- *Langevin dynamics* [\\ref{LD}]: which injects noise into the parameter updates in such a way that the trajectory of the parameters will converge to the full posterior distribution rather than just the maximum a posteriori mode.\n",
    "\n",
    "The resulting algorithm starts off being similar to stochastic optimization, then automatically transitions to one that simulates samples from the posterior using Langevin dynamics.\n",
    "\n",
    "$$\n",
    "\\tag{1}\n",
    "\\label{SGD}\n",
    "\\Delta\\theta_t = \\frac{\\epsilon_t}{2}\\left(\\nabla\\log p(\\theta_t) + \\frac{N}{n}\\sum_{i=1}^{n}\\nabla\\log p(x_{ti}|\\theta_t)\\right)\n",
    "$$\n",
    "\n",
    "$$\n",
    "\\tag{2}\n",
    "\\label{LD}\n",
    "\\Delta\\theta_t = \\frac{\\epsilon}{2}\\left(\\nabla\\log p(\\theta_t) + \\sum_{i=1}^{N}\\nabla\\log p(x_{i}|\\theta_t)\\right) + \\eta_t, \\qquad \\eta_t\\sim\\mathcal{N}(0, \\epsilon)\n",
    "$$\n",
    "\n",
    "In order to this method to work, i.e. two ensure that the method will converge to a local maximum, two main conditions are required, and they concern the step size:\n",
    "1. $\\sum_{t=1}^{\\infty}\\epsilon_t = \\infty$: to ensure that the parameters will reah the high probability regions whatever the starting point.\n",
    "2. $\\sum_{t=1}^{\\infty}\\epsilon_t^2 < \\infty$: to ensure that the parameters will converge to the mode and not just bouncing around it.\n",
    "\n",
    "#### **2.1. Preliminaries**"
   ]
  },
  {
   "cell_type": "code",
   "execution_count": 5,
   "id": "86bd5213-9f3a-4c37-9e68-9739918b3bca",
   "metadata": {},
   "outputs": [],
   "source": [
    "def lg_grad(w, X, y, r):\n",
    "    \"\"\"logistic regression\"\"\"\n",
    "    \n",
    "    return -np.dot(X.T, y - prob(w, X)) + r * w"
   ]
  },
  {
   "cell_type": "markdown",
   "id": "b4be72e2-d70e-4ee1-9708-e4195fef3ebb",
   "metadata": {},
   "source": [
    "#### **2.2. Stochastic Gradient Langevin Dynamics (SGLD)**\n",
    "\n",
    "Based on the similarities between the two algorithms (1) and (2), the idea is to combine the two approaches. This will lead to an efficient use of large data sets while allowing to take into account the uncertainty of the parameters in a Bayesian way.\n",
    "\n",
    "The process is as follows: \n",
    "1. use stochastic gradients descent\n",
    "2. add an amount of Gaussian noise balanced against the parameter uncertainty.\n",
    "3. allow the step sizes to go to zero. :\n",
    "\n",
    "Thus the proposed update is given by:\n",
    "\n",
    "$$\n",
    "\\tag{3}\n",
    "\\label{SGDL}\n",
    "\\Delta\\theta_t = \\frac{\\epsilon_t}{2}\\left(\\nabla\\log p(\\theta_t) + \\frac{N}{n}\\sum_{i=1}^{n}\\nabla\\log p(x_{ti}|\\theta_t)\\right) + \\eta_t, \\qquad \\eta_t\\sim\\mathcal{N}(0, \\epsilon)\n",
    "$$"
   ]
  },
  {
   "cell_type": "code",
   "execution_count": 6,
   "id": "1a267e41-f6a1-4749-9c0b-f5643f50da24",
   "metadata": {},
   "outputs": [],
   "source": [
    "def SGLD(X, log_prior, log_likelihood, batch_size, epsilon, n_iter, y=None, random_state=None):\n",
    "    \n",
    "    \"\"\"Stochastic Gradient Langevin Dynamics\n",
    "    \n",
    "    Parameters\n",
    "    ----------\n",
    "    X : array like of shape (N, d),\n",
    "        The training samples.\n",
    "    \n",
    "    log_prior: callable,\n",
    "        The log prior of the model.\n",
    "        \n",
    "    log_likelihood: callable,\n",
    "        The log likelihhod of the model.\n",
    "        \n",
    "    batch_size: int,\n",
    "        The size of the mini-batch.\n",
    "        \n",
    "    epsilon: float or callable,\n",
    "        The step size.\n",
    "        \n",
    "    n_iter: int,\n",
    "        Number of iterations to perform.\n",
    "        \n",
    "    theta_zero: array like of shape (d, 1)\n",
    "        Instantiating of parameters.\n",
    "        \n",
    "    random_state: int, DEFAULT=None,\n",
    "        Random seed for reproducibility.\n",
    "    \n",
    "    Returns\n",
    "    -------\n",
    "        Thetas: array like of shape (n_iter, d),\n",
    "            The history update of the parameters.\n",
    "            \n",
    "        noise: array-like of shape (n_inter),\n",
    "            The added noise.\n",
    "    \"\"\"\n",
    "    \n",
    "    ## number of training samples\n",
    "    N, d = X.shape\n",
    "    samples_per_batch = N // batch_size\n",
    "    \n",
    "    ## instantiate parameters\n",
    "    thetas, noises = [], []\n",
    "    theta = np.zeros(shape=(d,))\n",
    "    \n",
    "    ## random generator\n",
    "    rng = np.random.default_rng(random_state)\n",
    "    \n",
    "    ## training loop\n",
    "    for t in range(n_iter):\n",
    "        \n",
    "        ## pick a random mini batch\n",
    "        rdm_idx = np.random.choice(N, size=batch_size)\n",
    "        X_batch = X[rdm_idx]\n",
    "        \n",
    "        ## compute epsilon(t)\n",
    "        eps_t = epsilon(t)\n",
    "        \n",
    "        ## compute log prior & log likelihood\n",
    "        y_batch = None\n",
    "        if y is not None:\n",
    "            y_batch = y[rdm_idx]\n",
    "            \n",
    "        log_p = log_prior(theta)\n",
    "        log_lik = log_likelihood(X_batch, theta, y_batch)\n",
    "\n",
    "        ## Gaussian noise to add\n",
    "        noise = rng.normal(loc=0, scale=eps_t)\n",
    "        \n",
    "        ## parameters update\n",
    "        theta = theta + .5 * eps_t * (log_p + (N * log_lik)) + noise\n",
    "        thetas.append(theta)\n",
    "        noises.append(noise)\n",
    "    \n",
    "    return thetas, noises"
   ]
  },
  {
   "cell_type": "markdown",
   "id": "9add87f6-63b3-479a-9c23-28e51ea5656c",
   "metadata": {},
   "source": [
    "#### **2.3. Posterior Sampling**\n",
    "\n",
    "The idea is that the samples collection should start after the algorithm has entered its posterior sampling phase, which will not happen until after it becomes Langevin dynamics. The main condition to ensure that the algorithm is in its posterior sampling phase is given by:\n",
    "\n",
    "$$\n",
    "\\tag{4}\n",
    "\\label{cond}\n",
    "\\alpha = \\frac{\\epsilon_tN^2}{4n}\\lambda_{max}(M^{1/2}V_sM^{1/2}) \\ll 1\n",
    "$$\n",
    "Where $\\lambda_{max}$ is the larget eignevalue, $M$ is the preconditioning matrix and $V$ is emprical variance of the paramaters."
   ]
  },
  {
   "cell_type": "code",
   "execution_count": 7,
   "id": "5418317b-775a-48ac-837a-e8b31ed04c26",
   "metadata": {
    "jupyter": {
     "source_hidden": true
    },
    "tags": []
   },
   "outputs": [],
   "source": [
    "def posterior_sampling_phase(eps_t, N, batch_size, M, theta_t, threshold):\n",
    "    \"\"\"To check whether the SGLD reached the posterior sampling phase\n",
    "    \n",
    "    Parameters\n",
    "    ----------\n",
    "    eps_t : float,\n",
    "        The step size at iteration t.\n",
    "\n",
    "    N: int,\n",
    "        Number of samples.\n",
    "\n",
    "    batch_size: int,\n",
    "        The mini batch size.\n",
    "\n",
    "    M: array like,\n",
    "        The preconditioning matrix.\n",
    "\n",
    "    theta_t: array like of shape (d, 1),\n",
    "        The parameters at iteration t.\n",
    "\n",
    "    threshold: float,\n",
    "        The threshold for posterior sampling phase.\n",
    "            \n",
    "    Returns\n",
    "    -------\n",
    "    posterior_phase: bool,\n",
    "        True if the algorithm has reached the posterior phase, otherwise False.\n",
    "    \n",
    "    \"\"\"\n",
    "    \n",
    "    ## compute empirical variance of the parameters\n",
    "    emp_var = np.var(theta_t)\n",
    "    \n",
    "    ## M ^ (1/2)\n",
    "    pow_M = np.power(M, .5)\n",
    "    \n",
    "    ## get eignevalues\n",
    "    eigenvs, _ = np.linalg.eig(np.dot(pow_M, emp_var).dot(pow_M))\n",
    "    \n",
    "    ## compute alpha\n",
    "    alpha = (1 / 4 * batch_size) * eps_t * N ** 2 * np.max(eigenvs)\n",
    "    \n",
    "    ## check if posterior phase is rechead\n",
    "    in_posterior_phase = (alpha < threshold)\n",
    "    \n",
    "    return in_posterior_phase       "
   ]
  },
  {
   "cell_type": "code",
   "execution_count": 8,
   "id": "0461af1f-5e79-4b56-9510-11a15192ec8b",
   "metadata": {
    "jupyter": {
     "source_hidden": true
    },
    "tags": []
   },
   "outputs": [],
   "source": [
    "def SGLD_with_posterior_sampling(X, log_prior, log_likelihood, batch_size, epsilon,\n",
    "                                 n_iter, thereshold, M, random_state=None):\n",
    "    \n",
    "    \"\"\"Stochastic Gradient Langevin Dynamics\n",
    "    \n",
    "    Parameters\n",
    "    ----------\n",
    "    X : array like of shape (N, d),\n",
    "        The training samples.\n",
    "    \n",
    "    log_prior: callable,\n",
    "        The log prior of the model.\n",
    "        \n",
    "    log_likelihood: callable,\n",
    "        The log likelihhod of the model.\n",
    "        \n",
    "    batch_size: int,\n",
    "        The size of the mini-batch.\n",
    "        \n",
    "    epsilon: float or callable,\n",
    "        The step size.\n",
    "        \n",
    "    n_iter: int,\n",
    "        Number of iterations to perform.\n",
    "        \n",
    "    theta_zero: array like of shape (d, 1)\n",
    "        Instantiating of parameters.\n",
    "        \n",
    "\n",
    "    threshold: float,\n",
    "        The threshold for posterior sampling phase.\n",
    "        \n",
    "    M: array like,\n",
    "        The preconditioning matrix.\n",
    "            \n",
    "    random_state: int, DEFAULT=None,\n",
    "        Random seed for reproducibility.\n",
    "    \n",
    "    Returns\n",
    "    -------\n",
    "        Thetas: array like of shape (n_iter, d),\n",
    "            The history update of the parameters.\n",
    "    \"\"\"\n",
    "    \n",
    "    ## number of training samples\n",
    "    N, d = X.shape\n",
    "    samples_per_batch = N // batch_size\n",
    "    \n",
    "    ## instantiate parameters\n",
    "    theta = np.zeros(shape=(d,))\n",
    "    \n",
    "    ## random generator\n",
    "    rng = np.random.default_rng(random_state)\n",
    "    \n",
    "    ## while loop\n",
    "    in_posterior_phase = False\n",
    "    while not in_posterior_phase:\n",
    "        \n",
    "        ## pick a random mini batch\n",
    "        mini_batch = X[rng.choice(N, size=samples_per_batch)]\n",
    "        \n",
    "        ## compute epsilon(t)\n",
    "        eps_t = epsilon(t)\n",
    "        \n",
    "        ## compute log prior & log likelihood\n",
    "        log_p = log_prior(theta)\n",
    "        log_lik = log_likelihood(mini_batch, theta)\n",
    "        \n",
    "        ## Gaussian noise to add\n",
    "        noise = rng.normal(loc=0, scale=eps_t)\n",
    "        \n",
    "        ## parameters update\n",
    "        theta = theta + .5 * eps_t * (log_p + (N / batch_size) * np.sum(log_lik)) + noise\n",
    "        \n",
    "        ## posterior sampling phase\n",
    "        in_posterior_phase = posterior_sampling_phase(eps_t, N, batch_size, M, theta, threshold)\n",
    "\n",
    "    ## start sampling\n",
    "    \n",
    "    \n",
    "    return thetas"
   ]
  },
  {
   "cell_type": "markdown",
   "id": "93ef2cba-db54-41ae-87e8-17946e44bd9e",
   "metadata": {},
   "source": [
    "### ■ **<a name=\"eval\">3. Experiments</a>** [(&#8593;)](#content)\n",
    "In this last section, we evaluate our algorithm implemented above on some classical examples. We start by a mixture of Gaussians, then we appy it on a Bayesian logistic regression model and at last on the Independent Components Analysis model. The step size is given by $\\epsilon_t=a(b + t)^{-\\gamma}$, $\\gamma=0.55$ and $a$ and $b$ are chosen such that $\\epsilon_t$ decreases from $0.01$ to $0.0001$. \n",
    "\n",
    "#### **3.1. Mixture of Gaussians**\n",
    "To show that our method works well, we start by applying it on a very basic and simple example with two parameters. This first example is the mixture of Gaussians:\n",
    "- $\\theta_1\\sim N(0, \\sigma_1^2)$ and $\\theta_2\\sim N(0, \\sigma_2^2)$ where $\\sigma_1^2=10$, $\\sigma_2^2=1$ \n",
    "- $x_i\\sim \\dfrac12N(\\theta_1, \\sigma_x^2) + \\dfrac12 N(\\theta_1+\\theta_2, \\sigma_x^2)$ where $\\sigma_x^2=2$"
   ]
  },
  {
   "cell_type": "code",
   "execution_count": 9,
   "id": "e1f12bad-ba92-4c03-becd-6ffb195e9902",
   "metadata": {
    "tags": []
   },
   "outputs": [],
   "source": [
    "def generate_MG_samples(n_samples, theta, sigma, random_state=None):\n",
    "    \"\"\"Generate random samples from a Mixture of two Gaussians\n",
    "    \n",
    "    Parameters\n",
    "    ----------\n",
    "    n_samples: int,\n",
    "        Number of samples to sample.\n",
    "    \n",
    "    theta: array like of shape (2,),\n",
    "        The model parameters.\n",
    "        \n",
    "    sigma: float,\n",
    "        The standard deviation of the generated samples.\n",
    "        \n",
    "            \n",
    "    random_state: int, DEFAULT=None,\n",
    "        Random seed for reproducibility.\n",
    "        \n",
    "    Returns\n",
    "    -------\n",
    "    gaussian_mix: array like of shape (n_samples,),\n",
    "            The generated data.\n",
    "    \"\"\"\n",
    "    \n",
    "    ## random generator\n",
    "    rng = np.random.default_rng(random_state)\n",
    "    \n",
    "    ## generated the mixture of Gaussians\n",
    "    mixture_1 = .5 * rng.normal(loc=theta[0], scale=sigma, size=(n_samples, 2))\n",
    "    mixture_2 = .5 * rng.normal(loc=theta[0] + theta[1], scale=sigma, size=(n_samples, 2))  \n",
    "    gaussian_mix = mixture_1 + mixture_2\n",
    "    \n",
    "    return gaussian_mix\n",
    "\n",
    "\n",
    "def log_prior(theta):\n",
    "    \"\"\"returns the log prior of a given parameter\n",
    "    \n",
    "    Parameters\n",
    "    ----------\n",
    "    theta: array-like of shape (d,)\n",
    "        The parameters.\n",
    "        \n",
    "    Returns\n",
    "    -------\n",
    "    log_p: float,\n",
    "        The log prior of the given parameters.\n",
    "    \"\"\"\n",
    "    \n",
    "    ## compute log prior\n",
    "    first_term = stats.norm.logpdf(theta[0], loc=0, scale=sigma[0])\n",
    "    second_term = stats.norm.logpdf(theta[1], loc=0, scale=sigma[1])\n",
    "    log_p = first_term + second_term\n",
    "\n",
    "    return log_p\n",
    "\n",
    "def log_likelihood(x, theta, y=None):\n",
    "    \"\"\"returns the log likelihood of the given data and parameters\n",
    "    \n",
    "    Parameters\n",
    "    ----------\n",
    "    x: array-like of shape (n_samples, d),\n",
    "        The data points.\n",
    "        \n",
    "    theta: array-like of shape (d,)\n",
    "        The parameters.\n",
    "        \n",
    "    Returns\n",
    "    -------\n",
    "    log_lik: float,\n",
    "        The log likelihood of the given data and parameters.\n",
    "    \"\"\"\n",
    "     \n",
    "    ## compute log likelihood\n",
    "    first_term  = .5 * stats.norm.pdf(x, loc=theta[0], scale=sigma_x)\n",
    "    second_term = .5 * stats.norm.pdf(x, loc=theta[0] + theta[1], scale=sigma_x)\n",
    "    lik = first_term + second_term\n",
    "    \n",
    "    eps = 10e-8\n",
    "    \n",
    "    log_lik = np.mean(np.log(lik + eps), axis=0)\n",
    "    return log_lik "
   ]
  },
  {
   "cell_type": "markdown",
   "id": "1950102a-caf1-4495-a60a-d774d6448bd7",
   "metadata": {},
   "source": [
    "We draw **100** data points from the model with the two following modes:\n",
    "\n",
    "**Primary mode: $\\theta_1=0$ and $\\theta_2=1$.**"
   ]
  },
  {
   "cell_type": "code",
   "execution_count": 10,
   "id": "bdba16b8-9553-4535-b136-b58db7778223",
   "metadata": {},
   "outputs": [],
   "source": [
    "## parameters\n",
    "sigma_x = np.sqrt(2)\n",
    "sigma = [np.sqrt(10), 1]\n",
    "n_samples = 100\n",
    "theta = [0, 1]\n",
    "n_iter = 100\n",
    "batch_size = 1\n",
    "\n",
    "## generate mixture of Gaussians\n",
    "X = generate_MG_samples(n_samples=n_samples, theta=theta, sigma=np.sqrt(2), random_state=0)\n",
    "\n",
    "## define step size function epislon\n",
    "gamma = .55\n",
    "b = n_iter / (np.exp(-np.log(10e-3) / gamma) - 1)\n",
    "a = 0.01 / b ** (-gamma)\n",
    "epsilon = lambda t: a * (b + t) ** (-gamma)\n",
    "\n",
    "## run SGLD\n",
    "thetas, noises = SGLD(X, log_prior, log_likelihood, batch_size, epsilon, n_iter, random_state=0)\n",
    "\n",
    "grad_1 = np.gradient(thetas)"
   ]
  },
  {
   "cell_type": "markdown",
   "id": "8de75c46-cdf5-49c2-b58b-c61ab554fa00",
   "metadata": {},
   "source": [
    "**Secondary mode: $\\theta_1=1$ and $\\theta_2=-1$.**"
   ]
  },
  {
   "cell_type": "code",
   "execution_count": 11,
   "id": "cbc0a7c9-6a83-4c76-9442-3502fa3080c8",
   "metadata": {},
   "outputs": [],
   "source": [
    "## parameters\n",
    "theta = [1, -1]\n",
    "\n",
    "## generate mixture of Gaussians\n",
    "X = generate_MG_samples(n_samples=n_samples, theta=theta, sigma=np.sqrt(2))\n",
    "\n",
    "## run SGLD\n",
    "thetas, noises = SGLD(X, log_prior, log_likelihood, batch_size, epsilon, n_iter, random_state=1)\n",
    "grad_2 = np.gradient(thetas)"
   ]
  },
  {
   "cell_type": "code",
   "execution_count": 12,
   "id": "58f1c761-4470-4ee6-9492-d59e45fa4f04",
   "metadata": {},
   "outputs": [],
   "source": [
    "## compute parameters noise\n",
    "grad_1 = np.abs(np.gradient([x for x, _ in thetas])) / n_iter\n",
    "grad_2 = np.abs(np.gradient([x for _, x in thetas])) / n_iter"
   ]
  },
  {
   "cell_type": "code",
   "execution_count": 13,
   "id": "21e3d422-14eb-4fb2-a0de-efc8115905f8",
   "metadata": {},
   "outputs": [
    {
     "data": {
      "image/png": "[encoded data removed]",
      "text/plain": [
       "<Figure size 1008x360 with 1 Axes>"
      ]
     },
     "metadata": {},
     "output_type": "display_data"
    }
   ],
   "source": [
    "## create a subplots\n",
    "fig, ax = plt.subplots(figsize=(14, 5))\n",
    "\n",
    "## display injected noise\n",
    "ax.plot(grad_1, label=r'$\\nabla\\theta_1$ noise')\n",
    "ax.plot(grad_2, label=r'$\\nabla\\theta_2$ noise')\n",
    "ax.plot(noises, label='injected noise')\n",
    "ax.plot([epsilon(t) for t in range(1, n_iter+1)], label='eps')\n",
    "ax.set_xlabel('iterations')\n",
    "ax.set_ylabel('noise')\n",
    "ax.legend()\n",
    "plt.show()"
   ]
  },
  {
   "cell_type": "markdown",
   "id": "2358c291-2337-42a8-acea-85e2a83fc6ce",
   "metadata": {},
   "source": [
    ">**Comment:** The figure above confirms the idea of two phases to the stochastic gradient Langevin algorithm. The first phase where the stochastic gradient noise dominates the injected noise, and a second phase where the converse occurs."
   ]
  },
  {
   "cell_type": "markdown",
   "id": "7d781bca-ca04-456e-9fd4-8f2d004ed893",
   "metadata": {},
   "source": [
    "#### **3.2. Logistic Regression**\n",
    "For this second example, we apply stochastic gradient Langevin algorithm to a Bayesian logistic regression model.\n",
    "We will be using the data from the *UCI* dataset, more specificaly, the *a9a* dataset which consists of 32561 observations and 123 features.\n",
    "\n",
    "$$\n",
    "p(y_i|x_i) = \\sigma(y_i\\beta^Tx_i)\n",
    "$$\n",
    "Where $\\beta$ are the parameters, and $\\sigma$ is the sigmoid function.\n",
    "\n",
    "We use a Laplace prior for $\\beta$ and with a scale of 1. The gradient of the log likelihood is: $\\frac{\\partial}{\\partial\\beta}\\log{p(y_i|x_i)} = \\sigma(-y_i\\beta^T x_i) y_ix_i$. And the prior is just the $-sign(\\beta)$."
   ]
  },
  {
   "cell_type": "code",
   "execution_count": 14,
   "id": "70148b92-fc13-49e5-9752-4f7cff48c9e9",
   "metadata": {},
   "outputs": [],
   "source": [
    "def sigmoid(z):\n",
    "    \"\"\"sigmoid function\"\"\"\n",
    "    \n",
    "    return 1 / (1 + np.exp(-z))\n",
    "\n",
    "def log_likelihood(X, beta, y):\n",
    "    \"\"\"return the Log Likelihood for Logistic regression\n",
    "    \n",
    "    Parameters\n",
    "    ----------\n",
    "    X: array-like of shape (n_samples, d),\n",
    "        The data points.\n",
    "        \n",
    "    y: array-like of shape (n_samples, ),\n",
    "        The target values.\n",
    "        \n",
    "    beta: array-like of shape(d,),\n",
    "        The parameters.\n",
    "        \n",
    "    Returns\n",
    "    -------\n",
    "    log_lik: float,\n",
    "        The Log Likelihood.\n",
    "    \"\"\"\n",
    "    \n",
    "    ## compute scores B^T.X\n",
    "    scores = X.dot(beta)\n",
    "\n",
    "    ## compute log likelihood\n",
    "    log_lik = np.sum(y * scores - np.log(1 + np.exp(scores)))\n",
    "    \n",
    "    return log_lik\n",
    "\n",
    "def grad_log_likelihood(X, beta, y):\n",
    "    grad_log_lik = []\n",
    "    for j in range(beta.shape[0]):\n",
    "        grad = (y - X.dot(beta)) * X[:, j]\n",
    "        grad_log_lik.append(grad)\n",
    "    grad_log_lik = np.asarray(grad_log_lik)\n",
    "\n",
    "    return grad_log_lik[0, :]\n",
    "\n",
    "def grad_prior(beta):\n",
    "    \"\"\"return the gradient of the prior\"\"\"\n",
    "    \n",
    "    ## grad prior = -sign(beta)\n",
    "    grad_p = -np.sign(beta)\n",
    "    \n",
    "    return grad_p"
   ]
  },
  {
   "cell_type": "markdown",
   "id": "e0f230b9-5b41-4034-ba8d-0cf522a4f801",
   "metadata": {},
   "source": [
    "**Load data**"
   ]
  },
  {
   "cell_type": "code",
   "execution_count": 15,
   "id": "4f250a1f-9801-4aa1-a1fc-b38f746ac51a",
   "metadata": {},
   "outputs": [
    {
     "name": "stdout",
     "output_type": "stream",
     "text": [
      "> Number of samples : 1000\n",
      "> Number of features: 123\n"
     ]
    }
   ],
   "source": [
    "## upload \"a9a\" dataset\n",
    "X, y = fetch_openml(name='a9a', version=1, return_X_y=True, as_frame=False)\n",
    "\n",
    "## number of samples to pick\n",
    "n_samples = 1000\n",
    "X = X[:n_samples]\n",
    "y = y[:n_samples]\n",
    "N, d = X.shape\n",
    "\n",
    "print(f'> Number of samples : {N}')\n",
    "print(f'> Number of features: {d}')"
   ]
  },
  {
   "cell_type": "markdown",
   "id": "6a085002-9a27-4a74-8fe2-5a687b876771",
   "metadata": {},
   "source": [
    "**Split data**"
   ]
  },
  {
   "cell_type": "code",
   "execution_count": 16,
   "id": "1380bfe2-609e-4cbf-b8c8-3f0879aafd4e",
   "metadata": {},
   "outputs": [
    {
     "name": "stdout",
     "output_type": "stream",
     "text": [
      "> Number of training samples: 800\n",
      "> Number of testing samples : 200\n"
     ]
    }
   ],
   "source": [
    "## split data\n",
    "X_train, X_test, y_train, y_test = train_test_split(X, y, test_size=.2, random_state=0)\n",
    "\n",
    "print(f\"> Number of training samples: {X_train.shape[0]}\")\n",
    "print(f\"> Number of testing samples : {X_test.shape[0]}\")"
   ]
  },
  {
   "cell_type": "markdown",
   "id": "a513f6ef-f7b6-4509-8acd-48643952227a",
   "metadata": {},
   "source": [
    "**Train & Evaluate**"
   ]
  },
  {
   "cell_type": "code",
   "execution_count": 17,
   "id": "570ae660-234d-4604-9dc9-bbc9d5c1bcde",
   "metadata": {},
   "outputs": [],
   "source": [
    "## parameters\n",
    "n_iter = 100\n",
    "batch_size = 1\n",
    "\n",
    "## fit the model\n",
    "thetas, noises = SGLD(X_train, grad_prior, grad_log_likelihood, batch_size, epsilon, n_iter, y_train, 0)"
   ]
  },
  {
   "cell_type": "code",
   "execution_count": 18,
   "id": "81419f08-8622-4ca0-b5b2-59cf98e6d431",
   "metadata": {},
   "outputs": [
    {
     "data": {
      "image/png": "[encoded data removed]",
      "text/plain": [
       "<Figure size 360x360 with 2 Axes>"
      ]
     },
     "metadata": {},
     "output_type": "display_data"
    }
   ],
   "source": [
    "## make predictions\n",
    "\n",
    "y_pred = np.sign(X_test.dot(thetas[-1]))\n",
    "\n",
    "## confusion matrix\n",
    "conf_mat = confusion_matrix(y_test, y_pred, labels=(-1, 1))\n",
    "\n",
    "fig, ax = plt.subplots(figsize=(5, 5))\n",
    "sns.heatmap(conf_mat, ax=ax, annot=True, square=True, fmt='.3g')\n",
    "ax.set_title('confusion matrix')\n",
    "plt.show()"
   ]
  },
  {
   "cell_type": "markdown",
   "id": "35d60121-9ace-4f69-a480-99303560a60b",
   "metadata": {},
   "source": [
    "#### **3.3. Independent Components Analysis**"
   ]
  },
  {
   "cell_type": "code",
   "execution_count": null,
   "id": "c000666b-816f-406e-b0ef-e25e55b401a8",
   "metadata": {},
   "outputs": [],
   "source": [
    "## NOT ENOUGH TIME TO COVER THIS PART :("
   ]
  },
  {
   "cell_type": "markdown",
   "id": "517e7e58-2687-4a82-afc7-fa0df02dd585",
   "metadata": {},
   "source": [
    "### **Thoughts & Takeaways**\n",
    "- The paper is will written and well explained.\n",
    "- We managed to understand the majority of the proofs and theoretical aspects.\n",
    "- The proposed method is very interesting since it brings together two different aspects of machine learning, Bayesian learning and stochastic gradient.\n",
    "- The experiments are done using a variety of basic and well known models (e.g. mixture of Gaussians, logistic regression, etc.).\n",
    "- The part about Independent Components Analysis is much harder to understand.\n",
    "\n",
    "### **References** \n",
    "@inproceedings{welling2011bayesian,\n",
    "  title={Bayesian learning via stochastic gradient Langevin dynamics},\n",
    "  author={Welling, Max and Teh, Yee W},\n",
    "  booktitle={Proceedings of the 28th international conference on machine learning (ICML-11)},\n",
    "  pages={681--688},\n",
    "  year={2011},\n",
    "  organization={Citeseer}\n",
    "}"
   ]
  },
  {
   "cell_type": "markdown",
   "id": "19820c59-eb37-4bc6-8d3c-6ea8f265a4f2",
   "metadata": {},
   "source": [
    "---\n",
    "<p style=\"text-align: center;\">Copyright © 2021 Omar Ikne & Zakaria Boulkhir</p>"
   ]
  }
 ],
 "metadata": {
  "kernelspec": {
   "display_name": "Python 3",
   "language": "python",
   "name": "python3"
  },
  "language_info": {
   "codemirror_mode": {
    "name": "ipython",
    "version": 3
   },
   "file_extension": ".py",
   "mimetype": "text/x-python",
   "name": "python",
   "nbconvert_exporter": "python",
   "pygments_lexer": "ipython3",
   "version": "3.8.8"
  }
 },
 "nbformat": 4,
 "nbformat_minor": 5
}
